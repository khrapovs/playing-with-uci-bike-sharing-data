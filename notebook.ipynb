{
 "cells": [
  {
   "cell_type": "markdown",
   "metadata": {
    "pycharm": {
     "name": "#%% md\n"
    }
   },
   "source": [
    "# Playing with UCI Bike Sharing Data\n",
    "\n",
    "Links:\n",
    "- [Data source and description](https://archive.ics.uci.edu/ml/datasets/bike+sharing+dataset)"
   ]
  },
  {
   "cell_type": "markdown",
   "source": [
    "## Data preprocessing"
   ],
   "metadata": {
    "collapsed": false,
    "pycharm": {
     "name": "#%% md\n"
    }
   }
  },
  {
   "cell_type": "code",
   "execution_count": 1,
   "metadata": {
    "tags": []
   },
   "outputs": [],
   "source": [
    "import numpy as np\n",
    "import pandas as pd\n",
    "import seaborn as sns\n",
    "from matplotlib import pyplot as plt\n",
    "from scipy.optimize import brute\n",
    "from scipy.stats import norm\n",
    "from sklearn.compose import ColumnTransformer\n",
    "from sklearn.ensemble import RandomForestRegressor\n",
    "from sklearn.model_selection import GridSearchCV\n",
    "from sklearn.pipeline import make_pipeline\n",
    "from sklearn.preprocessing import OneHotEncoder\n",
    "from sklearn.preprocessing import StandardScaler\n",
    "\n",
    "from download_data import download_data\n",
    "\n",
    "pd.options.display.float_format = \"{:,.2f}\".format"
   ]
  },
  {
   "cell_type": "markdown",
   "source": [
    "Download data from the source to the local `data` directory. The function can be found in the same directory as this notebook."
   ],
   "metadata": {
    "collapsed": false
   }
  },
  {
   "cell_type": "code",
   "execution_count": 2,
   "outputs": [],
   "source": [
    "local_data_dir = download_data()"
   ],
   "metadata": {
    "collapsed": false,
    "pycharm": {
     "name": "#%%\n"
    }
   }
  },
  {
   "cell_type": "markdown",
   "source": [
    "Define a few labels for convenience."
   ],
   "metadata": {
    "collapsed": false,
    "pycharm": {
     "name": "#%% md\n"
    }
   }
  },
  {
   "cell_type": "code",
   "execution_count": 3,
   "outputs": [],
   "source": [
    "lbl_date = \"dteday\"\n",
    "lbl_prediction = \"prediction\"\n",
    "lbl_holiday = \"holiday\"\n",
    "lbl_weekday = \"weekday\"\n",
    "lbl_workingday = \"workingday\"\n",
    "lbl_weathersit = \"weathersit\"\n",
    "lbl_season = \"season\"\n",
    "lbl_temp = \"temp\"\n",
    "lbl_hum = \"hum\"\n",
    "lbl_windspeed = \"windspeed\"\n",
    "lbl_count_of_rental_bikes = \"cnt\""
   ],
   "metadata": {
    "collapsed": false,
    "pycharm": {
     "name": "#%%\n"
    }
   }
  },
  {
   "cell_type": "markdown",
   "source": [
    "Load data from local drive"
   ],
   "metadata": {
    "collapsed": false,
    "pycharm": {
     "name": "#%% md\n"
    }
   }
  },
  {
   "cell_type": "code",
   "execution_count": 4,
   "metadata": {
    "collapsed": false,
    "jupyter": {
     "outputs_hidden": false
    },
    "pycharm": {
     "name": "#%%\n"
    }
   },
   "outputs": [
    {
     "data": {
      "text/plain": "     instant     dteday  season  yr  mnth  holiday  weekday  workingday  \\\n726      727 2012-12-27       1   1    12        0        4           1   \n727      728 2012-12-28       1   1    12        0        5           1   \n728      729 2012-12-29       1   1    12        0        6           0   \n729      730 2012-12-30       1   1    12        0        0           0   \n730      731 2012-12-31       1   1    12        0        1           1   \n\n     weathersit  temp  atemp  hum  windspeed  casual  registered   cnt  \n726           2  0.25   0.23 0.65       0.35     247        1867  2114  \n727           2  0.25   0.26 0.59       0.16     644        2451  3095  \n728           2  0.25   0.24 0.75       0.12     159        1182  1341  \n729           1  0.26   0.23 0.48       0.35     364        1432  1796  \n730           2  0.22   0.22 0.58       0.15     439        2290  2729  ",
      "text/html": "<div>\n<style scoped>\n    .dataframe tbody tr th:only-of-type {\n        vertical-align: middle;\n    }\n\n    .dataframe tbody tr th {\n        vertical-align: top;\n    }\n\n    .dataframe thead th {\n        text-align: right;\n    }\n</style>\n<table border=\"1\" class=\"dataframe\">\n  <thead>\n    <tr style=\"text-align: right;\">\n      <th></th>\n      <th>instant</th>\n      <th>dteday</th>\n      <th>season</th>\n      <th>yr</th>\n      <th>mnth</th>\n      <th>holiday</th>\n      <th>weekday</th>\n      <th>workingday</th>\n      <th>weathersit</th>\n      <th>temp</th>\n      <th>atemp</th>\n      <th>hum</th>\n      <th>windspeed</th>\n      <th>casual</th>\n      <th>registered</th>\n      <th>cnt</th>\n    </tr>\n  </thead>\n  <tbody>\n    <tr>\n      <th>726</th>\n      <td>727</td>\n      <td>2012-12-27</td>\n      <td>1</td>\n      <td>1</td>\n      <td>12</td>\n      <td>0</td>\n      <td>4</td>\n      <td>1</td>\n      <td>2</td>\n      <td>0.25</td>\n      <td>0.23</td>\n      <td>0.65</td>\n      <td>0.35</td>\n      <td>247</td>\n      <td>1867</td>\n      <td>2114</td>\n    </tr>\n    <tr>\n      <th>727</th>\n      <td>728</td>\n      <td>2012-12-28</td>\n      <td>1</td>\n      <td>1</td>\n      <td>12</td>\n      <td>0</td>\n      <td>5</td>\n      <td>1</td>\n      <td>2</td>\n      <td>0.25</td>\n      <td>0.26</td>\n      <td>0.59</td>\n      <td>0.16</td>\n      <td>644</td>\n      <td>2451</td>\n      <td>3095</td>\n    </tr>\n    <tr>\n      <th>728</th>\n      <td>729</td>\n      <td>2012-12-29</td>\n      <td>1</td>\n      <td>1</td>\n      <td>12</td>\n      <td>0</td>\n      <td>6</td>\n      <td>0</td>\n      <td>2</td>\n      <td>0.25</td>\n      <td>0.24</td>\n      <td>0.75</td>\n      <td>0.12</td>\n      <td>159</td>\n      <td>1182</td>\n      <td>1341</td>\n    </tr>\n    <tr>\n      <th>729</th>\n      <td>730</td>\n      <td>2012-12-30</td>\n      <td>1</td>\n      <td>1</td>\n      <td>12</td>\n      <td>0</td>\n      <td>0</td>\n      <td>0</td>\n      <td>1</td>\n      <td>0.26</td>\n      <td>0.23</td>\n      <td>0.48</td>\n      <td>0.35</td>\n      <td>364</td>\n      <td>1432</td>\n      <td>1796</td>\n    </tr>\n    <tr>\n      <th>730</th>\n      <td>731</td>\n      <td>2012-12-31</td>\n      <td>1</td>\n      <td>1</td>\n      <td>12</td>\n      <td>0</td>\n      <td>1</td>\n      <td>1</td>\n      <td>2</td>\n      <td>0.22</td>\n      <td>0.22</td>\n      <td>0.58</td>\n      <td>0.15</td>\n      <td>439</td>\n      <td>2290</td>\n      <td>2729</td>\n    </tr>\n  </tbody>\n</table>\n</div>"
     },
     "execution_count": 4,
     "metadata": {},
     "output_type": "execute_result"
    }
   ],
   "source": [
    "raw_data = pd.read_csv(local_data_dir / \"day.csv\", parse_dates=[lbl_date])\n",
    "raw_data.tail()"
   ]
  },
  {
   "cell_type": "markdown",
   "source": [
    "Check data types and number of non-null values"
   ],
   "metadata": {
    "collapsed": false,
    "pycharm": {
     "name": "#%% md\n"
    }
   }
  },
  {
   "cell_type": "code",
   "execution_count": 5,
   "metadata": {},
   "outputs": [
    {
     "name": "stdout",
     "output_type": "stream",
     "text": [
      "<class 'pandas.core.frame.DataFrame'>\n",
      "RangeIndex: 731 entries, 0 to 730\n",
      "Data columns (total 16 columns):\n",
      " #   Column      Non-Null Count  Dtype         \n",
      "---  ------      --------------  -----         \n",
      " 0   instant     731 non-null    int64         \n",
      " 1   dteday      731 non-null    datetime64[ns]\n",
      " 2   season      731 non-null    int64         \n",
      " 3   yr          731 non-null    int64         \n",
      " 4   mnth        731 non-null    int64         \n",
      " 5   holiday     731 non-null    int64         \n",
      " 6   weekday     731 non-null    int64         \n",
      " 7   workingday  731 non-null    int64         \n",
      " 8   weathersit  731 non-null    int64         \n",
      " 9   temp        731 non-null    float64       \n",
      " 10  atemp       731 non-null    float64       \n",
      " 11  hum         731 non-null    float64       \n",
      " 12  windspeed   731 non-null    float64       \n",
      " 13  casual      731 non-null    int64         \n",
      " 14  registered  731 non-null    int64         \n",
      " 15  cnt         731 non-null    int64         \n",
      "dtypes: datetime64[ns](1), float64(4), int64(11)\n",
      "memory usage: 91.5 KB\n"
     ]
    }
   ],
   "source": [
    "raw_data.info()"
   ]
  },
  {
   "cell_type": "markdown",
   "source": [
    "Sanity check"
   ],
   "metadata": {
    "collapsed": false,
    "pycharm": {
     "name": "#%% md\n"
    }
   }
  },
  {
   "cell_type": "code",
   "execution_count": 6,
   "outputs": [
    {
     "data": {
      "text/plain": "       instant  season     yr   mnth  holiday  weekday  workingday  \\\ncount   731.00  731.00 731.00 731.00   731.00   731.00      731.00   \nmean    366.00    2.50   0.50   6.52     0.03     3.00        0.68   \nstd     211.17    1.11   0.50   3.45     0.17     2.00        0.47   \nmin       1.00    1.00   0.00   1.00     0.00     0.00        0.00   \n25%     183.50    2.00   0.00   4.00     0.00     1.00        0.00   \n50%     366.00    3.00   1.00   7.00     0.00     3.00        1.00   \n75%     548.50    3.00   1.00  10.00     0.00     5.00        1.00   \nmax     731.00    4.00   1.00  12.00     1.00     6.00        1.00   \n\n       weathersit   temp  atemp    hum  windspeed   casual  registered  \\\ncount      731.00 731.00 731.00 731.00     731.00   731.00      731.00   \nmean         1.40   0.50   0.47   0.63       0.19   848.18    3,656.17   \nstd          0.54   0.18   0.16   0.14       0.08   686.62    1,560.26   \nmin          1.00   0.06   0.08   0.00       0.02     2.00       20.00   \n25%          1.00   0.34   0.34   0.52       0.13   315.50    2,497.00   \n50%          1.00   0.50   0.49   0.63       0.18   713.00    3,662.00   \n75%          2.00   0.66   0.61   0.73       0.23 1,096.00    4,776.50   \nmax          3.00   0.86   0.84   0.97       0.51 3,410.00    6,946.00   \n\n           cnt  \ncount   731.00  \nmean  4,504.35  \nstd   1,937.21  \nmin      22.00  \n25%   3,152.00  \n50%   4,548.00  \n75%   5,956.00  \nmax   8,714.00  ",
      "text/html": "<div>\n<style scoped>\n    .dataframe tbody tr th:only-of-type {\n        vertical-align: middle;\n    }\n\n    .dataframe tbody tr th {\n        vertical-align: top;\n    }\n\n    .dataframe thead th {\n        text-align: right;\n    }\n</style>\n<table border=\"1\" class=\"dataframe\">\n  <thead>\n    <tr style=\"text-align: right;\">\n      <th></th>\n      <th>instant</th>\n      <th>season</th>\n      <th>yr</th>\n      <th>mnth</th>\n      <th>holiday</th>\n      <th>weekday</th>\n      <th>workingday</th>\n      <th>weathersit</th>\n      <th>temp</th>\n      <th>atemp</th>\n      <th>hum</th>\n      <th>windspeed</th>\n      <th>casual</th>\n      <th>registered</th>\n      <th>cnt</th>\n    </tr>\n  </thead>\n  <tbody>\n    <tr>\n      <th>count</th>\n      <td>731.00</td>\n      <td>731.00</td>\n      <td>731.00</td>\n      <td>731.00</td>\n      <td>731.00</td>\n      <td>731.00</td>\n      <td>731.00</td>\n      <td>731.00</td>\n      <td>731.00</td>\n      <td>731.00</td>\n      <td>731.00</td>\n      <td>731.00</td>\n      <td>731.00</td>\n      <td>731.00</td>\n      <td>731.00</td>\n    </tr>\n    <tr>\n      <th>mean</th>\n      <td>366.00</td>\n      <td>2.50</td>\n      <td>0.50</td>\n      <td>6.52</td>\n      <td>0.03</td>\n      <td>3.00</td>\n      <td>0.68</td>\n      <td>1.40</td>\n      <td>0.50</td>\n      <td>0.47</td>\n      <td>0.63</td>\n      <td>0.19</td>\n      <td>848.18</td>\n      <td>3,656.17</td>\n      <td>4,504.35</td>\n    </tr>\n    <tr>\n      <th>std</th>\n      <td>211.17</td>\n      <td>1.11</td>\n      <td>0.50</td>\n      <td>3.45</td>\n      <td>0.17</td>\n      <td>2.00</td>\n      <td>0.47</td>\n      <td>0.54</td>\n      <td>0.18</td>\n      <td>0.16</td>\n      <td>0.14</td>\n      <td>0.08</td>\n      <td>686.62</td>\n      <td>1,560.26</td>\n      <td>1,937.21</td>\n    </tr>\n    <tr>\n      <th>min</th>\n      <td>1.00</td>\n      <td>1.00</td>\n      <td>0.00</td>\n      <td>1.00</td>\n      <td>0.00</td>\n      <td>0.00</td>\n      <td>0.00</td>\n      <td>1.00</td>\n      <td>0.06</td>\n      <td>0.08</td>\n      <td>0.00</td>\n      <td>0.02</td>\n      <td>2.00</td>\n      <td>20.00</td>\n      <td>22.00</td>\n    </tr>\n    <tr>\n      <th>25%</th>\n      <td>183.50</td>\n      <td>2.00</td>\n      <td>0.00</td>\n      <td>4.00</td>\n      <td>0.00</td>\n      <td>1.00</td>\n      <td>0.00</td>\n      <td>1.00</td>\n      <td>0.34</td>\n      <td>0.34</td>\n      <td>0.52</td>\n      <td>0.13</td>\n      <td>315.50</td>\n      <td>2,497.00</td>\n      <td>3,152.00</td>\n    </tr>\n    <tr>\n      <th>50%</th>\n      <td>366.00</td>\n      <td>3.00</td>\n      <td>1.00</td>\n      <td>7.00</td>\n      <td>0.00</td>\n      <td>3.00</td>\n      <td>1.00</td>\n      <td>1.00</td>\n      <td>0.50</td>\n      <td>0.49</td>\n      <td>0.63</td>\n      <td>0.18</td>\n      <td>713.00</td>\n      <td>3,662.00</td>\n      <td>4,548.00</td>\n    </tr>\n    <tr>\n      <th>75%</th>\n      <td>548.50</td>\n      <td>3.00</td>\n      <td>1.00</td>\n      <td>10.00</td>\n      <td>0.00</td>\n      <td>5.00</td>\n      <td>1.00</td>\n      <td>2.00</td>\n      <td>0.66</td>\n      <td>0.61</td>\n      <td>0.73</td>\n      <td>0.23</td>\n      <td>1,096.00</td>\n      <td>4,776.50</td>\n      <td>5,956.00</td>\n    </tr>\n    <tr>\n      <th>max</th>\n      <td>731.00</td>\n      <td>4.00</td>\n      <td>1.00</td>\n      <td>12.00</td>\n      <td>1.00</td>\n      <td>6.00</td>\n      <td>1.00</td>\n      <td>3.00</td>\n      <td>0.86</td>\n      <td>0.84</td>\n      <td>0.97</td>\n      <td>0.51</td>\n      <td>3,410.00</td>\n      <td>6,946.00</td>\n      <td>8,714.00</td>\n    </tr>\n  </tbody>\n</table>\n</div>"
     },
     "execution_count": 6,
     "metadata": {},
     "output_type": "execute_result"
    }
   ],
   "source": [
    "raw_data.describe()"
   ],
   "metadata": {
    "collapsed": false,
    "pycharm": {
     "name": "#%%\n"
    }
   }
  },
  {
   "cell_type": "markdown",
   "source": [
    "Any missing values?"
   ],
   "metadata": {
    "collapsed": false,
    "pycharm": {
     "name": "#%% md\n"
    }
   }
  },
  {
   "cell_type": "code",
   "execution_count": 7,
   "outputs": [
    {
     "data": {
      "text/plain": "instant       0\ndteday        0\nseason        0\nyr            0\nmnth          0\nholiday       0\nweekday       0\nworkingday    0\nweathersit    0\ntemp          0\natemp         0\nhum           0\nwindspeed     0\ncasual        0\nregistered    0\ncnt           0\ndtype: int64"
     },
     "execution_count": 7,
     "metadata": {},
     "output_type": "execute_result"
    }
   ],
   "source": [
    "raw_data.isna().sum()"
   ],
   "metadata": {
    "collapsed": false,
    "pycharm": {
     "name": "#%%\n"
    }
   }
  },
  {
   "cell_type": "markdown",
   "source": [
    "Looks like the data is quite clean. No missing values. Several categorical variables, several binary, several continuous. Plenty of freedom to build an interesting model."
   ],
   "metadata": {
    "collapsed": false,
    "pycharm": {
     "name": "#%% md\n"
    }
   }
  },
  {
   "cell_type": "markdown",
   "source": [
    "## First descriptive analysis"
   ],
   "metadata": {
    "collapsed": false,
    "pycharm": {
     "name": "#%% md\n"
    }
   }
  },
  {
   "cell_type": "markdown",
   "source": [
    "Split data into train and test. Last 30 days are in the test."
   ],
   "metadata": {
    "collapsed": false,
    "pycharm": {
     "name": "#%% md\n"
    }
   }
  },
  {
   "cell_type": "code",
   "execution_count": 8,
   "outputs": [
    {
     "data": {
      "text/plain": "     instant     dteday  season  yr  mnth  holiday  weekday  workingday  \\\n695      696 2012-11-26       4   1    11        0        1           1   \n696      697 2012-11-27       4   1    11        0        2           1   \n697      698 2012-11-28       4   1    11        0        3           1   \n698      699 2012-11-29       4   1    11        0        4           1   \n699      700 2012-11-30       4   1    11        0        5           1   \n\n     weathersit  temp  atemp  hum  windspeed  casual  registered   cnt  \n695           1  0.31   0.34 0.54       0.05     337        4750  5087  \n696           2  0.29   0.28 0.79       0.24     123        3836  3959  \n697           1  0.30   0.29 0.51       0.21     198        5062  5260  \n698           1  0.28   0.30 0.56       0.12     243        5080  5323  \n699           1  0.30   0.32 0.65       0.06     362        5306  5668  ",
      "text/html": "<div>\n<style scoped>\n    .dataframe tbody tr th:only-of-type {\n        vertical-align: middle;\n    }\n\n    .dataframe tbody tr th {\n        vertical-align: top;\n    }\n\n    .dataframe thead th {\n        text-align: right;\n    }\n</style>\n<table border=\"1\" class=\"dataframe\">\n  <thead>\n    <tr style=\"text-align: right;\">\n      <th></th>\n      <th>instant</th>\n      <th>dteday</th>\n      <th>season</th>\n      <th>yr</th>\n      <th>mnth</th>\n      <th>holiday</th>\n      <th>weekday</th>\n      <th>workingday</th>\n      <th>weathersit</th>\n      <th>temp</th>\n      <th>atemp</th>\n      <th>hum</th>\n      <th>windspeed</th>\n      <th>casual</th>\n      <th>registered</th>\n      <th>cnt</th>\n    </tr>\n  </thead>\n  <tbody>\n    <tr>\n      <th>695</th>\n      <td>696</td>\n      <td>2012-11-26</td>\n      <td>4</td>\n      <td>1</td>\n      <td>11</td>\n      <td>0</td>\n      <td>1</td>\n      <td>1</td>\n      <td>1</td>\n      <td>0.31</td>\n      <td>0.34</td>\n      <td>0.54</td>\n      <td>0.05</td>\n      <td>337</td>\n      <td>4750</td>\n      <td>5087</td>\n    </tr>\n    <tr>\n      <th>696</th>\n      <td>697</td>\n      <td>2012-11-27</td>\n      <td>4</td>\n      <td>1</td>\n      <td>11</td>\n      <td>0</td>\n      <td>2</td>\n      <td>1</td>\n      <td>2</td>\n      <td>0.29</td>\n      <td>0.28</td>\n      <td>0.79</td>\n      <td>0.24</td>\n      <td>123</td>\n      <td>3836</td>\n      <td>3959</td>\n    </tr>\n    <tr>\n      <th>697</th>\n      <td>698</td>\n      <td>2012-11-28</td>\n      <td>4</td>\n      <td>1</td>\n      <td>11</td>\n      <td>0</td>\n      <td>3</td>\n      <td>1</td>\n      <td>1</td>\n      <td>0.30</td>\n      <td>0.29</td>\n      <td>0.51</td>\n      <td>0.21</td>\n      <td>198</td>\n      <td>5062</td>\n      <td>5260</td>\n    </tr>\n    <tr>\n      <th>698</th>\n      <td>699</td>\n      <td>2012-11-29</td>\n      <td>4</td>\n      <td>1</td>\n      <td>11</td>\n      <td>0</td>\n      <td>4</td>\n      <td>1</td>\n      <td>1</td>\n      <td>0.28</td>\n      <td>0.30</td>\n      <td>0.56</td>\n      <td>0.12</td>\n      <td>243</td>\n      <td>5080</td>\n      <td>5323</td>\n    </tr>\n    <tr>\n      <th>699</th>\n      <td>700</td>\n      <td>2012-11-30</td>\n      <td>4</td>\n      <td>1</td>\n      <td>11</td>\n      <td>0</td>\n      <td>5</td>\n      <td>1</td>\n      <td>1</td>\n      <td>0.30</td>\n      <td>0.32</td>\n      <td>0.65</td>\n      <td>0.06</td>\n      <td>362</td>\n      <td>5306</td>\n      <td>5668</td>\n    </tr>\n  </tbody>\n</table>\n</div>"
     },
     "execution_count": 8,
     "metadata": {},
     "output_type": "execute_result"
    }
   ],
   "source": [
    "split_time = raw_data[lbl_date].max() - pd.DateOffset(days=30)\n",
    "data_train = raw_data.pipe(lambda df: df[df[lbl_date] < split_time])\n",
    "data_test = raw_data.pipe(lambda df: df[df[lbl_date] >= split_time])\n",
    "y_train = data_train[lbl_count_of_rental_bikes]\n",
    "y_test = data_test[lbl_count_of_rental_bikes]\n",
    "\n",
    "data_train.tail()"
   ],
   "metadata": {
    "collapsed": false,
    "pycharm": {
     "name": "#%%\n"
    }
   }
  },
  {
   "cell_type": "markdown",
   "source": [
    "Visualize the number of rentals per day."
   ],
   "metadata": {
    "collapsed": false,
    "pycharm": {
     "name": "#%% md\n"
    }
   }
  },
  {
   "cell_type": "code",
   "execution_count": 9,
   "outputs": [
    {
     "data": {
      "text/plain": "<Figure size 1080x360 with 1 Axes>",
      "image/png": "[encoded data removed]"
     },
     "metadata": {
      "needs_background": "light"
     },
     "output_type": "display_data"
    }
   ],
   "source": [
    "sns.relplot(\n",
    "    x=lbl_date,\n",
    "    y=lbl_count_of_rental_bikes,\n",
    "    kind=\"line\",\n",
    "    aspect=3,\n",
    "    data=data_train\n",
    ")\n",
    "plt.title(\"Number of rental bikes per day\")\n",
    "plt.show()"
   ],
   "metadata": {
    "collapsed": false,
    "pycharm": {
     "name": "#%%\n"
    }
   }
  },
  {
   "cell_type": "markdown",
   "source": [
    "Compute the number of bikes needed on each day as a ratio of users and a maximum number of rentals per bike per day."
   ],
   "metadata": {
    "collapsed": false,
    "pycharm": {
     "name": "#%% md\n"
    }
   }
  },
  {
   "cell_type": "code",
   "execution_count": 10,
   "outputs": [],
   "source": [
    "MAX_RENTALS_PER_BIKE_PER_DAY = 12\n",
    "lbl_nr_of_bikes_needed_per_day = \"number of bikes needed per day\"\n",
    "data_train = data_train.assign(\n",
    "    **{lbl_nr_of_bikes_needed_per_day: lambda df: df[lbl_count_of_rental_bikes] / MAX_RENTALS_PER_BIKE_PER_DAY}\n",
    ")"
   ],
   "metadata": {
    "collapsed": false,
    "pycharm": {
     "name": "#%%\n"
    }
   }
  },
  {
   "cell_type": "code",
   "execution_count": 11,
   "outputs": [
    {
     "name": "stdout",
     "output_type": "stream",
     "text": [
      "Max number of bikes needed over all days in the data: 726\n"
     ]
    }
   ],
   "source": [
    "max_nr_of_bikes_needed = data_train[lbl_nr_of_bikes_needed_per_day].max()\n",
    "print(f\"Max number of bikes needed over all days in the data: {max_nr_of_bikes_needed:.0f}\")"
   ],
   "metadata": {
    "collapsed": false,
    "pycharm": {
     "name": "#%%\n"
    }
   }
  },
  {
   "cell_type": "code",
   "execution_count": 12,
   "outputs": [
    {
     "name": "stdout",
     "output_type": "stream",
     "text": [
      "95% quantile number of bikes needed over all days in the data: 632\n"
     ]
    }
   ],
   "source": [
    "alpha = 0.95\n",
    "quantile_nr_of_bikes_needed = data_train[lbl_nr_of_bikes_needed_per_day].quantile(alpha)\n",
    "print(f\"{alpha:.0%} quantile number of bikes needed over all days in the data: {quantile_nr_of_bikes_needed:.0f}\")"
   ],
   "metadata": {
    "collapsed": false,
    "pycharm": {
     "name": "#%%\n"
    }
   }
  },
  {
   "cell_type": "markdown",
   "source": [
    "Let's set up a grid for a number of available bikes."
   ],
   "metadata": {
    "collapsed": false,
    "pycharm": {
     "name": "#%% md\n"
    }
   }
  },
  {
   "cell_type": "code",
   "execution_count": 13,
   "outputs": [],
   "source": [
    "grid_bikes_available = np.linspace(start=0, stop=max_nr_of_bikes_needed, num=100)"
   ],
   "metadata": {
    "collapsed": false,
    "pycharm": {
     "name": "#%%\n"
    }
   }
  },
  {
   "cell_type": "markdown",
   "source": [
    "Now compute the percentage of days that are completely covered by the set supply of bikes."
   ],
   "metadata": {
    "collapsed": false,
    "pycharm": {
     "name": "#%% md\n"
    }
   }
  },
  {
   "cell_type": "code",
   "execution_count": 14,
   "outputs": [
    {
     "data": {
      "text/plain": "    pct bikes available  pct days covered\n95                95.96             99.43\n96                96.97             99.71\n97                97.98             99.71\n98                98.99             99.86\n99               100.00            100.00",
      "text/html": "<div>\n<style scoped>\n    .dataframe tbody tr th:only-of-type {\n        vertical-align: middle;\n    }\n\n    .dataframe tbody tr th {\n        vertical-align: top;\n    }\n\n    .dataframe thead th {\n        text-align: right;\n    }\n</style>\n<table border=\"1\" class=\"dataframe\">\n  <thead>\n    <tr style=\"text-align: right;\">\n      <th></th>\n      <th>pct bikes available</th>\n      <th>pct days covered</th>\n    </tr>\n  </thead>\n  <tbody>\n    <tr>\n      <th>95</th>\n      <td>95.96</td>\n      <td>99.43</td>\n    </tr>\n    <tr>\n      <th>96</th>\n      <td>96.97</td>\n      <td>99.71</td>\n    </tr>\n    <tr>\n      <th>97</th>\n      <td>97.98</td>\n      <td>99.71</td>\n    </tr>\n    <tr>\n      <th>98</th>\n      <td>98.99</td>\n      <td>99.86</td>\n    </tr>\n    <tr>\n      <th>99</th>\n      <td>100.00</td>\n      <td>100.00</td>\n    </tr>\n  </tbody>\n</table>\n</div>"
     },
     "execution_count": 14,
     "metadata": {},
     "output_type": "execute_result"
    }
   ],
   "source": [
    "def get_pct_days_covered(data: pd.DataFrame, bikes_available: int) -> float:\n",
    "    return 100 * (data[lbl_nr_of_bikes_needed_per_day] <= bikes_available).sum() / data.shape[0]\n",
    "\n",
    "lbl_pct_bikes_available = \"pct bikes available\"\n",
    "lbl_days_covered = \"pct days covered\"\n",
    "pct_days_covered = list()\n",
    "for bikes_available in grid_bikes_available:\n",
    "    pct_days_covered.append(\n",
    "        {lbl_pct_bikes_available: 100 * bikes_available / max_nr_of_bikes_needed,\n",
    "         lbl_days_covered: get_pct_days_covered(data=data_train, bikes_available=bikes_available)}\n",
    "    )\n",
    "pct_days_covered = pd.DataFrame(pct_days_covered)\n",
    "pct_days_covered.tail()"
   ],
   "metadata": {
    "collapsed": false,
    "pycharm": {
     "name": "#%%\n"
    }
   }
  },
  {
   "cell_type": "markdown",
   "source": [
    "And visualize the result."
   ],
   "metadata": {
    "collapsed": false,
    "pycharm": {
     "name": "#%% md\n"
    }
   }
  },
  {
   "cell_type": "code",
   "execution_count": 15,
   "outputs": [
    {
     "data": {
      "text/plain": "<Figure size 720x360 with 1 Axes>",
      "image/png": "[encoded data removed]"
     },
     "metadata": {
      "needs_background": "light"
     },
     "output_type": "display_data"
    }
   ],
   "source": [
    "sns.relplot(\n",
    "    x=lbl_pct_bikes_available,\n",
    "    y=lbl_days_covered,\n",
    "    kind=\"line\",\n",
    "    aspect=2,\n",
    "    data=pct_days_covered,\n",
    ")\n",
    "plt.title(\"Percentage of days covered vs. percentage of bikes available\")\n",
    "plt.show()"
   ],
   "metadata": {
    "collapsed": false,
    "pycharm": {
     "name": "#%%\n"
    }
   }
  },
  {
   "cell_type": "markdown",
   "source": [
    "In essence this plot shows the expected share of stochastic demand to be satisfied with a limited supply of bikes. The more bikes are available, the more riders will find a ride."
   ],
   "metadata": {
    "collapsed": false,
    "pycharm": {
     "name": "#%% md\n"
    }
   }
  },
  {
   "cell_type": "markdown",
   "source": [
    "## Model train/fit/score\n",
    "\n",
    "Now it's time to have fun with some models."
   ],
   "metadata": {
    "collapsed": false,
    "pycharm": {
     "name": "#%% md\n"
    }
   }
  },
  {
   "cell_type": "markdown",
   "source": [
    "Let's use one hot encoder for a couple of categorical variables in the dataset."
   ],
   "metadata": {
    "collapsed": false,
    "pycharm": {
     "name": "#%% md\n"
    }
   }
  },
  {
   "cell_type": "code",
   "execution_count": 16,
   "outputs": [],
   "source": [
    "categorical_features = [lbl_season, lbl_weathersit]\n",
    "categorical_transformer = OneHotEncoder(sparse=False)"
   ],
   "metadata": {
    "collapsed": false,
    "pycharm": {
     "name": "#%%\n"
    }
   }
  },
  {
   "cell_type": "markdown",
   "source": [
    "For continuous variables it is a prerequisite to use standard scaler especially in case of trees and forests."
   ],
   "metadata": {
    "collapsed": false,
    "pycharm": {
     "name": "#%% md\n"
    }
   }
  },
  {
   "cell_type": "code",
   "execution_count": 17,
   "outputs": [],
   "source": [
    "continuous_features = [lbl_temp, lbl_hum, lbl_windspeed]\n",
    "numeric_transformer = StandardScaler()"
   ],
   "metadata": {
    "collapsed": false,
    "pycharm": {
     "name": "#%%\n"
    }
   }
  },
  {
   "cell_type": "markdown",
   "source": [
    "Binary features are good as they are. So the final data transformer is just a combination of the three with a final drop of unused data."
   ],
   "metadata": {
    "collapsed": false,
    "pycharm": {
     "name": "#%% md\n"
    }
   }
  },
  {
   "cell_type": "code",
   "execution_count": 18,
   "outputs": [],
   "source": [
    "binary_features = [lbl_holiday, lbl_workingday]\n",
    "data_transformer = ColumnTransformer(\n",
    "    transformers=[\n",
    "        (\"binary features\", \"passthrough\", binary_features),\n",
    "        (\"continuous features\", numeric_transformer, continuous_features),\n",
    "        (\"categorical features\", categorical_transformer, categorical_features)\n",
    "    ], remainder=\"drop\"\n",
    ")"
   ],
   "metadata": {
    "collapsed": false,
    "pycharm": {
     "name": "#%%\n"
    }
   }
  },
  {
   "cell_type": "markdown",
   "source": [
    "The model is just a standard random forest regression with a fixed number of estimators. We do not expect miracles from it, but we have to start somewhere."
   ],
   "metadata": {
    "collapsed": false,
    "pycharm": {
     "name": "#%% md\n"
    }
   }
  },
  {
   "cell_type": "code",
   "execution_count": 19,
   "outputs": [],
   "source": [
    "model = RandomForestRegressor(n_estimators=5, random_state=42)"
   ],
   "metadata": {
    "collapsed": false,
    "pycharm": {
     "name": "#%%\n"
    }
   }
  },
  {
   "cell_type": "markdown",
   "source": [
    "Let's wrap all this into a pipeline..."
   ],
   "metadata": {
    "collapsed": false,
    "pycharm": {
     "name": "#%% md\n"
    }
   }
  },
  {
   "cell_type": "code",
   "execution_count": 20,
   "outputs": [],
   "source": [
    "pipeline = make_pipeline(data_transformer, model)"
   ],
   "metadata": {
    "collapsed": false,
    "pycharm": {
     "name": "#%%\n"
    }
   }
  },
  {
   "cell_type": "markdown",
   "source": [
    "... and see how it performs on the training data."
   ],
   "metadata": {
    "collapsed": false,
    "pycharm": {
     "name": "#%% md\n"
    }
   }
  },
  {
   "cell_type": "code",
   "execution_count": 21,
   "outputs": [
    {
     "name": "stdout",
     "output_type": "stream",
     "text": [
      "initial R2 = 90%\n",
      "CPU times: user 40.4 ms, sys: 0 ns, total: 40.4 ms\n",
      "Wall time: 67.3 ms\n"
     ]
    }
   ],
   "source": [
    "%%time\n",
    "\n",
    "pipeline.fit(X=data_train, y=y_train)\n",
    "\n",
    "r2_initial = pipeline.score(X=data_train, y=y_train)\n",
    "print(f\"initial R2 = {r2_initial:.0%}\")"
   ],
   "metadata": {
    "collapsed": false,
    "pycharm": {
     "name": "#%%\n"
    }
   }
  },
  {
   "cell_type": "markdown",
   "source": [
    "Around 90%. Not too bad for a first ball!"
   ],
   "metadata": {
    "collapsed": false,
    "pycharm": {
     "name": "#%% md\n"
    }
   }
  },
  {
   "cell_type": "markdown",
   "source": [
    "Let's take a look at the scatter of actual vs predicted."
   ],
   "metadata": {
    "collapsed": false,
    "pycharm": {
     "name": "#%% md\n"
    }
   }
  },
  {
   "cell_type": "code",
   "execution_count": 22,
   "outputs": [
    {
     "data": {
      "text/plain": "<Figure size 720x360 with 1 Axes>",
      "image/png": "[encoded data removed]"
     },
     "metadata": {
      "needs_background": "light"
     },
     "output_type": "display_data"
    }
   ],
   "source": [
    "data_with_predictions = data_train.assign(\n",
    "    **{lbl_prediction: pipeline.predict(X=data_train)}\n",
    ")\n",
    "\n",
    "sns.relplot(\n",
    "    x=lbl_count_of_rental_bikes,\n",
    "    y=lbl_prediction,\n",
    "    aspect=2,\n",
    "    data=data_with_predictions\n",
    ")\n",
    "\n",
    "plt.title(\"Number of rental bikes per day\")\n",
    "plt.show()"
   ],
   "metadata": {
    "collapsed": false,
    "pycharm": {
     "name": "#%%\n"
    }
   }
  },
  {
   "cell_type": "markdown",
   "source": [
    "We can certainly do better :)"
   ],
   "metadata": {
    "collapsed": false,
    "pycharm": {
     "name": "#%% md\n"
    }
   }
  },
  {
   "cell_type": "markdown",
   "source": [
    "## Hyperparameter tuning"
   ],
   "metadata": {
    "collapsed": false,
    "pycharm": {
     "name": "#%% md\n"
    }
   }
  },
  {
   "cell_type": "markdown",
   "source": [
    "Below are all pipeline parameters that we can possibly tune."
   ],
   "metadata": {
    "collapsed": false,
    "pycharm": {
     "name": "#%% md\n"
    }
   }
  },
  {
   "cell_type": "code",
   "execution_count": 23,
   "outputs": [
    {
     "data": {
      "text/plain": "{'memory': None,\n 'steps': [('columntransformer',\n   ColumnTransformer(transformers=[('binary features', 'passthrough',\n                                    ['holiday', 'workingday']),\n                                   ('continuous features', StandardScaler(),\n                                    ['temp', 'hum', 'windspeed']),\n                                   ('categorical features',\n                                    OneHotEncoder(sparse=False),\n                                    ['season', 'weathersit'])])),\n  ('randomforestregressor',\n   RandomForestRegressor(n_estimators=5, random_state=42))],\n 'verbose': False,\n 'columntransformer': ColumnTransformer(transformers=[('binary features', 'passthrough',\n                                  ['holiday', 'workingday']),\n                                 ('continuous features', StandardScaler(),\n                                  ['temp', 'hum', 'windspeed']),\n                                 ('categorical features',\n                                  OneHotEncoder(sparse=False),\n                                  ['season', 'weathersit'])]),\n 'randomforestregressor': RandomForestRegressor(n_estimators=5, random_state=42),\n 'columntransformer__n_jobs': None,\n 'columntransformer__remainder': 'drop',\n 'columntransformer__sparse_threshold': 0.3,\n 'columntransformer__transformer_weights': None,\n 'columntransformer__transformers': [('binary features',\n   'passthrough',\n   ['holiday', 'workingday']),\n  ('continuous features', StandardScaler(), ['temp', 'hum', 'windspeed']),\n  ('categorical features',\n   OneHotEncoder(sparse=False),\n   ['season', 'weathersit'])],\n 'columntransformer__verbose': False,\n 'columntransformer__verbose_feature_names_out': True,\n 'columntransformer__binary features': 'passthrough',\n 'columntransformer__continuous features': StandardScaler(),\n 'columntransformer__categorical features': OneHotEncoder(sparse=False),\n 'columntransformer__continuous features__copy': True,\n 'columntransformer__continuous features__with_mean': True,\n 'columntransformer__continuous features__with_std': True,\n 'columntransformer__categorical features__categories': 'auto',\n 'columntransformer__categorical features__drop': None,\n 'columntransformer__categorical features__dtype': numpy.float64,\n 'columntransformer__categorical features__handle_unknown': 'error',\n 'columntransformer__categorical features__sparse': False,\n 'randomforestregressor__bootstrap': True,\n 'randomforestregressor__ccp_alpha': 0.0,\n 'randomforestregressor__criterion': 'squared_error',\n 'randomforestregressor__max_depth': None,\n 'randomforestregressor__max_features': 'auto',\n 'randomforestregressor__max_leaf_nodes': None,\n 'randomforestregressor__max_samples': None,\n 'randomforestregressor__min_impurity_decrease': 0.0,\n 'randomforestregressor__min_samples_leaf': 1,\n 'randomforestregressor__min_samples_split': 2,\n 'randomforestregressor__min_weight_fraction_leaf': 0.0,\n 'randomforestregressor__n_estimators': 5,\n 'randomforestregressor__n_jobs': None,\n 'randomforestregressor__oob_score': False,\n 'randomforestregressor__random_state': 42,\n 'randomforestregressor__verbose': 0,\n 'randomforestregressor__warm_start': False}"
     },
     "execution_count": 23,
     "metadata": {},
     "output_type": "execute_result"
    }
   ],
   "source": [
    "pipeline.get_params()"
   ],
   "metadata": {
    "collapsed": false,
    "pycharm": {
     "name": "#%%\n"
    }
   }
  },
  {
   "cell_type": "markdown",
   "source": [
    "Just as a matter of proving a point, let's pick one (number of estimators in the random forest estimator) and use a standard grid search cross-validation."
   ],
   "metadata": {
    "collapsed": false,
    "pycharm": {
     "name": "#%% md\n"
    }
   }
  },
  {
   "cell_type": "code",
   "execution_count": 24,
   "outputs": [
    {
     "name": "stdout",
     "output_type": "stream",
     "text": [
      "CPU times: user 14.5 s, sys: 127 ms, total: 14.7 s\n",
      "Wall time: 15.6 s\n"
     ]
    }
   ],
   "source": [
    "%%time\n",
    "\n",
    "param_grid = [{\"randomforestregressor__n_estimators\": [10, 100, 200, 500]}]\n",
    "grid_search = GridSearchCV(estimator=pipeline, param_grid=param_grid)\n",
    "grid_search.fit(X=data_train, y=y_train)\n",
    "grid_search_results = pd.DataFrame(grid_search.cv_results_)"
   ],
   "metadata": {
    "collapsed": false,
    "pycharm": {
     "name": "#%%\n"
    }
   }
  },
  {
   "cell_type": "markdown",
   "source": [
    "Results show us which model parameters produce better models. One should also pay attention to average fit time. It may become a limiting factor in production, scaling, further tuning, etc."
   ],
   "metadata": {
    "collapsed": false,
    "pycharm": {
     "name": "#%% md\n"
    }
   }
  },
  {
   "cell_type": "code",
   "execution_count": 25,
   "outputs": [
    {
     "data": {
      "text/plain": "   mean_fit_time  std_fit_time  mean_score_time  std_score_time  \\\n0           0.05          0.01             0.01            0.00   \n1           0.33          0.05             0.02            0.00   \n2           0.60          0.09             0.03            0.01   \n3           1.67          0.39             0.09            0.02   \n\n  param_randomforestregressor__n_estimators  \\\n0                                        10   \n1                                       100   \n2                                       200   \n3                                       500   \n\n                                         params  split0_test_score  \\\n0   {'randomforestregressor__n_estimators': 10}              -1.16   \n1  {'randomforestregressor__n_estimators': 100}              -1.05   \n2  {'randomforestregressor__n_estimators': 200}              -1.07   \n3  {'randomforestregressor__n_estimators': 500}              -1.07   \n\n   split1_test_score  split2_test_score  split3_test_score  split4_test_score  \\\n0              -6.77              -1.47              -1.37              -1.46   \n1              -6.27              -1.24              -1.37              -1.39   \n2              -6.27              -1.23              -1.37              -1.37   \n3              -6.22              -1.21              -1.37              -1.35   \n\n   mean_test_score  std_test_score  rank_test_score  \n0            -2.45            2.17                4  \n1            -2.26            2.01                3  \n2            -2.26            2.01                2  \n3            -2.25            1.99                1  ",
      "text/html": "<div>\n<style scoped>\n    .dataframe tbody tr th:only-of-type {\n        vertical-align: middle;\n    }\n\n    .dataframe tbody tr th {\n        vertical-align: top;\n    }\n\n    .dataframe thead th {\n        text-align: right;\n    }\n</style>\n<table border=\"1\" class=\"dataframe\">\n  <thead>\n    <tr style=\"text-align: right;\">\n      <th></th>\n      <th>mean_fit_time</th>\n      <th>std_fit_time</th>\n      <th>mean_score_time</th>\n      <th>std_score_time</th>\n      <th>param_randomforestregressor__n_estimators</th>\n      <th>params</th>\n      <th>split0_test_score</th>\n      <th>split1_test_score</th>\n      <th>split2_test_score</th>\n      <th>split3_test_score</th>\n      <th>split4_test_score</th>\n      <th>mean_test_score</th>\n      <th>std_test_score</th>\n      <th>rank_test_score</th>\n    </tr>\n  </thead>\n  <tbody>\n    <tr>\n      <th>0</th>\n      <td>0.05</td>\n      <td>0.01</td>\n      <td>0.01</td>\n      <td>0.00</td>\n      <td>10</td>\n      <td>{'randomforestregressor__n_estimators': 10}</td>\n      <td>-1.16</td>\n      <td>-6.77</td>\n      <td>-1.47</td>\n      <td>-1.37</td>\n      <td>-1.46</td>\n      <td>-2.45</td>\n      <td>2.17</td>\n      <td>4</td>\n    </tr>\n    <tr>\n      <th>1</th>\n      <td>0.33</td>\n      <td>0.05</td>\n      <td>0.02</td>\n      <td>0.00</td>\n      <td>100</td>\n      <td>{'randomforestregressor__n_estimators': 100}</td>\n      <td>-1.05</td>\n      <td>-6.27</td>\n      <td>-1.24</td>\n      <td>-1.37</td>\n      <td>-1.39</td>\n      <td>-2.26</td>\n      <td>2.01</td>\n      <td>3</td>\n    </tr>\n    <tr>\n      <th>2</th>\n      <td>0.60</td>\n      <td>0.09</td>\n      <td>0.03</td>\n      <td>0.01</td>\n      <td>200</td>\n      <td>{'randomforestregressor__n_estimators': 200}</td>\n      <td>-1.07</td>\n      <td>-6.27</td>\n      <td>-1.23</td>\n      <td>-1.37</td>\n      <td>-1.37</td>\n      <td>-2.26</td>\n      <td>2.01</td>\n      <td>2</td>\n    </tr>\n    <tr>\n      <th>3</th>\n      <td>1.67</td>\n      <td>0.39</td>\n      <td>0.09</td>\n      <td>0.02</td>\n      <td>500</td>\n      <td>{'randomforestregressor__n_estimators': 500}</td>\n      <td>-1.07</td>\n      <td>-6.22</td>\n      <td>-1.21</td>\n      <td>-1.37</td>\n      <td>-1.35</td>\n      <td>-2.25</td>\n      <td>1.99</td>\n      <td>1</td>\n    </tr>\n  </tbody>\n</table>\n</div>"
     },
     "execution_count": 25,
     "metadata": {},
     "output_type": "execute_result"
    }
   ],
   "source": [
    "grid_search_results"
   ],
   "metadata": {
    "collapsed": false,
    "pycharm": {
     "name": "#%%\n"
    }
   }
  },
  {
   "cell_type": "code",
   "execution_count": 26,
   "outputs": [
    {
     "name": "stdout",
     "output_type": "stream",
     "text": [
      "Initial R2 = 90%\n",
      "Best R2 = 95%\n",
      "R2 improvement: 4.33%\n"
     ]
    }
   ],
   "source": [
    "best_model = grid_search.best_estimator_\n",
    "r2_best = best_model.score(X=data_train, y=y_train)\n",
    "print(f\"Initial R2 = {r2_initial:.0%}\")\n",
    "print(f\"Best R2 = {r2_best:.0%}\")\n",
    "print(f\"R2 improvement: {r2_best - r2_initial:.2%}\")"
   ],
   "metadata": {
    "collapsed": false,
    "pycharm": {
     "name": "#%%\n"
    }
   }
  },
  {
   "cell_type": "markdown",
   "source": [
    "4% is quite an improvement for a single hyperparameter!"
   ],
   "metadata": {
    "collapsed": false,
    "pycharm": {
     "name": "#%% md\n"
    }
   }
  },
  {
   "cell_type": "markdown",
   "source": [
    "## Profit optimization"
   ],
   "metadata": {
    "collapsed": false,
    "pycharm": {
     "name": "#%% md\n"
    }
   }
  },
  {
   "cell_type": "markdown",
   "source": [
    "Set some constants."
   ],
   "metadata": {
    "collapsed": false,
    "pycharm": {
     "name": "#%% md\n"
    }
   }
  },
  {
   "cell_type": "code",
   "execution_count": 27,
   "outputs": [],
   "source": [
    "REVENUE_PER_RENTAL = 10\n",
    "BIKE_COST_PER_DAY = 7\n",
    "\n",
    "np.random.seed(42)"
   ],
   "metadata": {
    "collapsed": false,
    "pycharm": {
     "name": "#%%\n"
    }
   }
  },
  {
   "cell_type": "markdown",
   "source": [
    "Predict the number of bikers on the test data."
   ],
   "metadata": {
    "collapsed": false,
    "pycharm": {
     "name": "#%% md\n"
    }
   }
  },
  {
   "cell_type": "code",
   "execution_count": 28,
   "outputs": [],
   "source": [
    "predictions = best_model.predict(X=data_test)"
   ],
   "metadata": {
    "collapsed": false,
    "pycharm": {
     "name": "#%%\n"
    }
   }
  },
  {
   "cell_type": "markdown",
   "source": [
    "Simulate demand for rental bikes by, first, simulating residuals from a simple Gaussian approximation of the regression error, and then second, adding those to the model predictions, and finally, dividing by the number of rentals per bike."
   ],
   "metadata": {
    "collapsed": false,
    "pycharm": {
     "name": "#%% md\n"
    }
   }
  },
  {
   "cell_type": "code",
   "execution_count": 29,
   "outputs": [],
   "source": [
    "residuals = y_test - predictions\n",
    "simulated_residuals = norm.rvs(loc=residuals.mean(), scale=residuals.std(), size=predictions.shape[0])\n",
    "simulated_demand = (predictions + simulated_residuals) / MAX_RENTALS_PER_BIKE_PER_DAY"
   ],
   "metadata": {
    "collapsed": false,
    "pycharm": {
     "name": "#%%\n"
    }
   }
  },
  {
   "cell_type": "markdown",
   "source": [
    "If we provide a fixed number of bikes on each day, there is no guarantee that all aspiring bikers would get one. Hence, a bike rental company would pocket only revenues from \"satisfied\" demand. Costs are of course independent on demand if supply is not flexible. So a simple profit formula is encapsulated in the function below."
   ],
   "metadata": {
    "collapsed": false,
    "pycharm": {
     "name": "#%% md\n"
    }
   }
  },
  {
   "cell_type": "code",
   "execution_count": 30,
   "outputs": [
    {
     "name": "stdout",
     "output_type": "stream",
     "text": [
      "Profit for maximum available number of bikes: -60167\n"
     ]
    }
   ],
   "source": [
    "def compute_profit(bikes_available: int) -> float:\n",
    "    satisfied_demand = np.where(simulated_demand <= bikes_available, simulated_demand, bikes_available)\n",
    "    return (satisfied_demand * REVENUE_PER_RENTAL - bikes_available * BIKE_COST_PER_DAY).sum()\n",
    "\n",
    "profit_for_max_nr_of_bikes_needed = compute_profit(bikes_available=max_nr_of_bikes_needed)\n",
    "print(f\"Profit for maximum available number of bikes: {profit_for_max_nr_of_bikes_needed:.0f}\")"
   ],
   "metadata": {
    "collapsed": false,
    "pycharm": {
     "name": "#%%\n"
    }
   }
  },
  {
   "cell_type": "markdown",
   "source": [
    "Negative profit does not look too good neither for investors, nor for the owners of the company. So, let's compute the expected profit given a fixed supply of bikes."
   ],
   "metadata": {
    "collapsed": false,
    "pycharm": {
     "name": "#%% md\n"
    }
   }
  },
  {
   "cell_type": "code",
   "execution_count": 31,
   "outputs": [],
   "source": [
    "profit = list()\n",
    "lbl_profit = \"profit\"\n",
    "\n",
    "for bikes_available in grid_bikes_available:\n",
    "    profit.append(\n",
    "        {lbl_pct_bikes_available: bikes_available / max_nr_of_bikes_needed,\n",
    "         lbl_profit: compute_profit(bikes_available=bikes_available)}\n",
    "    )\n",
    "profit = pd.DataFrame(profit)"
   ],
   "metadata": {
    "collapsed": false,
    "pycharm": {
     "name": "#%%\n"
    }
   }
  },
  {
   "cell_type": "markdown",
   "source": [
    "And use a straightforward brute force optimization to find the most profitable choice for a bike park."
   ],
   "metadata": {
    "collapsed": false,
    "pycharm": {
     "name": "#%% md\n"
    }
   }
  },
  {
   "cell_type": "code",
   "execution_count": 32,
   "outputs": [
    {
     "name": "stdout",
     "output_type": "stream",
     "text": [
      "Optimal number of bikes: 222\n",
      "Expected profit: 16417\n",
      "CPU times: user 3.77 ms, sys: 269 µs, total: 4.04 ms\n",
      "Wall time: 2.92 ms\n"
     ]
    }
   ],
   "source": [
    "%%time\n",
    "\n",
    "def compute_loss(bikes_available: int) -> float:\n",
    "    return -compute_profit(bikes_available=bikes_available)\n",
    "\n",
    "grid = (slice(0, max_nr_of_bikes_needed, max_nr_of_bikes_needed / 10),)\n",
    "opt_result = brute(func=compute_loss, ranges=grid, full_output=True)\n",
    "\n",
    "print(f\"Optimal number of bikes: {opt_result[0][0]:.0f}\")\n",
    "print(f\"Expected profit: {-opt_result[1]:.0f}\")"
   ],
   "metadata": {
    "collapsed": false,
    "pycharm": {
     "name": "#%%\n"
    }
   }
  },
  {
   "cell_type": "markdown",
   "source": [
    "Finally, visualize the profit function and the optimum."
   ],
   "metadata": {
    "collapsed": false,
    "pycharm": {
     "name": "#%% md\n"
    }
   }
  },
  {
   "cell_type": "code",
   "execution_count": 33,
   "outputs": [
    {
     "data": {
      "text/plain": "<Figure size 720x360 with 1 Axes>",
      "image/png": "[encoded data removed]"
     },
     "metadata": {
      "needs_background": "light"
     },
     "output_type": "display_data"
    }
   ],
   "source": [
    "sns.relplot(\n",
    "    x=lbl_pct_bikes_available,\n",
    "    y=lbl_profit,\n",
    "    kind=\"line\",\n",
    "    aspect=2,\n",
    "    data=profit,\n",
    ")\n",
    "plt.axvline(opt_result[0] / max_nr_of_bikes_needed, color=\"green\", label=\"optimal number of bikes\")\n",
    "plt.axhline(-opt_result[1], color=\"r\", label=\"max profit\")\n",
    "plt.title(\"Profit vs. percentage of bikes available\")\n",
    "plt.legend()\n",
    "plt.show()"
   ],
   "metadata": {
    "collapsed": false,
    "pycharm": {
     "name": "#%%\n"
    }
   }
  },
  {
   "cell_type": "markdown",
   "source": [
    "The profit curve looks like an inverted parabola with a peak around 30% of bike availability. At first, the profit growth simply by providing a bare minimum of bikes on an empty market. At some point each additional supplied unit may be left untouched on some days, hence incurring the costs and not bringing in any revenue. If the number of bikes is too big, then the parking lot is full of brand-new bikes that are not utilized on majority of the days. Eventually, oversupply leads to the losses."
   ],
   "metadata": {
    "collapsed": false,
    "pycharm": {
     "name": "#%% md\n"
    }
   }
  },
  {
   "cell_type": "markdown",
   "source": [
    "## Conclusion\n",
    "\n",
    "There plenty of things to improve here. For example:\n",
    "- `RandomForestRegressor` is probably not the best choice for a large scale random forest modelling. [`XGBoost`](https://xgboost.readthedocs.io/en/stable/) is most likely the current industry leader in this area.\n",
    "- Hyperparameter tuning with a standard `GridSearchCV` is also probably suboptimal. Something like [`Hyperopt`](https://github.com/hyperopt/hyperopt) would probably be a better choice for large scale multidimensional problems.\n",
    "- Feature engineering with simple `OneHotEncoder` and `StandardScaler` should definitely be upgraded. There is no deficit of packages for that purpose. See e.g. [here](https://github.com/EthicalML/awesome-production-machine-learning#feature-engineering-automation) for relevant libraries.\n",
    "- Time and dynamic aspect in the above example was completely ignored. It is evident from the time series plot that there are some annual trends or even lower frequency variation on extended time intervals. Time series models should definitely be added to the list in order to adjust bike supply with greater precision. A short list of popular TS packages is: [Prophet](https://facebook.github.io/prophet/docs/quick_start.html), [Greykite](https://github.com/linkedin/greykite), [sktime](https://github.com/alan-turing-institute/sktime), [Darts](https://unit8co.github.io/darts/).\n",
    "- For this specific problem neural networks would definitely be an overkill, but at scale they can not be ignored.\n",
    "- Demand/supply/profit simulation above is a bare minimum. Distribution of errors, fixed supply, prices - all could be tweaked to better reflect a real market situation."
   ],
   "metadata": {
    "collapsed": false,
    "pycharm": {
     "name": "#%% md\n"
    }
   }
  }
 ],
 "metadata": {
  "jupytext": {
   "formats": "ipynb,py:percent"
  },
  "kernelspec": {
   "display_name": "Python 3 (ipykernel)",
   "language": "python",
   "name": "python3"
  },
  "language_info": {
   "codemirror_mode": {
    "name": "ipython",
    "version": 3
   },
   "file_extension": ".py",
   "mimetype": "text/x-python",
   "name": "python",
   "nbconvert_exporter": "python",
   "pygments_lexer": "ipython3",
   "version": "3.9.9"
  }
 },
 "nbformat": 4,
 "nbformat_minor": 4
}